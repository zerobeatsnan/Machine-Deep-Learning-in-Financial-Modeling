{
 "cells": [
  {
   "cell_type": "code",
   "execution_count": null,
   "id": "38a9b08f",
   "metadata": {},
   "outputs": [],
   "source": [
    "import numpy as np\n",
    "import pandas as pd\n",
    "import gc\n",
    "from copy import copy\n",
    "from tqdm import trange\n",
    "from datetime import datetime\n",
    "import warnings\n",
    "from sklearn.metrics.pairwise import pairwise_kernels\n",
    "from AssetPricing import factor_model, backtest, kernel_methods\n",
    "from AssetPricing.kernel_methods import AlwaysNoneList, kernel_ic_maximizer\n",
    "import os\n",
    "from joblib import Parallel, delayed\n",
    "import numpy as np\n",
    "import pickle\n",
    "import os\n",
    "warnings.filterwarnings('ignore', message = 'Unused variable')"
   ]
  },
  {
   "cell_type": "code",
   "execution_count": null,
   "id": "dcbce1fd",
   "metadata": {},
   "outputs": [],
   "source": [
    "class AlwaysNoneList:\n",
    "    def __getitem__(self, index):\n",
    "        return None\n"
   ]
  },
  {
   "cell_type": "code",
   "execution_count": null,
   "id": "87a8cd86",
   "metadata": {},
   "outputs": [],
   "source": [
    "data = pd.read_csv(\"data/cha1.csv\", index_col=0)\n",
    "# data = pd.read_csv('D:/project/data/data.csv', index_col = 1)\n",
    "date = list(pd.unique(data.index))\n",
    "date.sort()\n",
    "ret = data.pivot(columns = 'PERMNO', values = 'RET').fillna(0).loc[date]\n",
    "\n",
    "characteristics = dict()\n",
    "for t in trange(len(date)):\n",
    "    key = date[t]\n",
    "    cha = data.loc[key].set_index('PERMNO').iloc[:, 1:]    \n",
    "    cha = 2*cha.rank()/cha.count()-1\n",
    "    rt = ret.loc[key, cha.index]\n",
    "    cha.loc[rt[rt == 0].index] = np.nan\n",
    "    cha = cha.dropna(how = 'all')\n",
    "    \n",
    "    characteristics[key] = cha\n",
    "\n",
    "ret[ret == 0] = np.nan\n",
    "ret = ret.add(- ret.mean(axis = 1), axis = 0).divide(ret.std(axis = 1), axis = 0)\n",
    "ret = ret.fillna(0)"
   ]
  },
  {
   "cell_type": "code",
   "execution_count": null,
   "id": "cb362eae",
   "metadata": {},
   "outputs": [],
   "source": [
    "file_path = \"data/saved_data/dictionary for prediction dictionary.pkl\"\n",
    "\n",
    "with open(file_path, \"rb\") as file:\n",
    "\n",
    "    dict_of_dict = pickle.load(file)\n",
    "\n",
    "cov_mat_2_optim = kernel_methods.cov_mat(dict_of_dict)\n",
    "\n",
    "model = kernel_ic_maximizer(characteristics, ret)\n",
    "\n",
    "model.get_return_dict()\n",
    "\n",
    "cor_ls_2_optim = kernel_methods.cor_ls(dict_of_dict, model.return_dict)\n",
    "\n",
    "numerator = np.linalg.inv(cov_mat_2_optim).dot(cor_ls_2_optim)\n",
    "\n",
    "denominator = np.ones((1, cor_ls_2_optim.shape[0])).dot(np.linalg.inv(cov_mat_2_optim).dot(cor_ls_2_optim))\n",
    "\n",
    "optimal_weight = numerator/denominator"
   ]
  },
  {
   "cell_type": "code",
   "execution_count": null,
   "id": "bebbcce5",
   "metadata": {},
   "outputs": [],
   "source": [
    "file_path = \"data/saved_data/dictionary for prediction dictionary.pkl\"\n",
    "\n",
    "with open(file_path, \"rb\") as file:\n",
    "\n",
    "    dict_of_dict = pickle.load(file)\n",
    "\n",
    "cov_mat_2_optim = kernel_methods.cov_mat(dict_of_dict)\n",
    "\n",
    "model = kernel_ic_maximizer(characteristics, ret)\n",
    "\n",
    "model.get_return_dict()\n",
    "\n",
    "cov_ls_2_optim = kernel_methods.cov_ls(dict_of_dict, model.return_dict)\n",
    "\n",
    "negative_mask = cov_ls_2_optim < 0\n",
    "\n",
    "cov_ls_2_optim = np.abs(cov_ls_2_optim)\n",
    "\n",
    "numerator = np.linalg.inv(cov_mat_2_optim).dot(cov_ls_2_optim)\n",
    "\n",
    "denominator = np.ones((1, cov_ls_2_optim.shape[0])).dot(np.linalg.inv(cov_mat_2_optim).dot(cov_ls_2_optim))\n",
    "\n",
    "optimal_weight = numerator/denominator\n",
    "\n",
    "optimal_weight[negative_mask] = -optimal_weight[negative_mask]"
   ]
  },
  {
   "cell_type": "code",
   "execution_count": null,
   "id": "639696b2",
   "metadata": {},
   "outputs": [],
   "source": [
    "optimal_weight"
   ]
  },
  {
   "cell_type": "code",
   "execution_count": null,
   "id": "77719509",
   "metadata": {},
   "outputs": [],
   "source": [
    "list(optimal_weight.squeeze())"
   ]
  },
  {
   "cell_type": "code",
   "execution_count": 5,
   "id": "b7b60dfa",
   "metadata": {},
   "outputs": [
    {
     "name": "stderr",
     "output_type": "stream",
     "text": [
      "100%|██████████| 611/611 [54:34<00:00,  5.36s/it]  \n"
     ]
    }
   ],
   "source": [
    "rolling_lag_dict = model.get_prediction_of_rolling_lag(lag_ls=list(range(1,13)), weight_ls = list(optimal_weight.squeeze()), lamb = 1e-3, metric = \"linear\",\n",
    "                                      gamma = 1e-6, degree = None, coef0 = None)"
   ]
  },
  {
   "cell_type": "code",
   "execution_count": 6,
   "id": "2208aeba",
   "metadata": {},
   "outputs": [
    {
     "name": "stdout",
     "output_type": "stream",
     "text": [
      "0.07582951730085213\n"
     ]
    },
    {
     "data": {
      "text/plain": [
       "0.07582951730085213"
      ]
     },
     "execution_count": 6,
     "metadata": {},
     "output_type": "execute_result"
    }
   ],
   "source": [
    "kernel_methods.IC_of_two_dict(rolling_lag_dict, model.return_dict)"
   ]
  },
  {
   "cell_type": "code",
   "execution_count": null,
   "id": "d47e8608",
   "metadata": {},
   "outputs": [],
   "source": [
    "\"\"\"\n",
    "n_jobs, lag_ls = AlwaysNoneList(), lamb = 1e-3, metric = \"linear\", \n",
    "                      gamma_ls = AlwaysNoneList(), degree_ls = AlwaysNoneList(), coef_ls = AlwaysNoneList()\n",
    "\n",
    "\"\"\"\n",
    "parameters = {\n",
    "    \"n_jobs\" : 7,\n",
    "    \"lag_ls\" : [1,2,3,4,5,6,7,8,9,10,11,12],\n",
    "    \"lamb\" :1e-3,\n",
    "    \"metric\": \"rbf\",\n",
    "    \"gamma_ls\": [1e-6, 1e-6, 1e-6,1e-6, 1e-6, 1e-6,1e-6, 1e-6, 1e-6,1e-6, 1e-6, 1e-6],\n",
    "}\n",
    "\n",
    "model = kernel_ic_maximizer(characteristics, ret)\n",
    "\n",
    "model.cal_pred_dict(**parameters)"
   ]
  },
  {
   "cell_type": "code",
   "execution_count": null,
   "id": "964eb231",
   "metadata": {},
   "outputs": [],
   "source": [
    "parameters = {\n",
    "    \"characteristics\" : characteristics,\n",
    "    \"ret\" : ret,\n",
    "    \"n_jobs\" :7,\n",
    "    \"kernel_method\": \"rbf\",\n",
    "    \"time_lags\": range(1,7),\n",
    "    \"gamma_range\": np.logspace(0,-6,2),\n",
    "}\n",
    "\n",
    "results_dict = kernel_methods.run_parallel_cal_IC(**parameters)\n",
    "\n",
    "\n",
    "\n"
   ]
  }
 ],
 "metadata": {
  "kernelspec": {
   "display_name": "Python 3 (ipykernel)",
   "language": "python",
   "name": "python3"
  },
  "language_info": {
   "codemirror_mode": {
    "name": "ipython",
    "version": 3
   },
   "file_extension": ".py",
   "mimetype": "text/x-python",
   "name": "python",
   "nbconvert_exporter": "python",
   "pygments_lexer": "ipython3",
   "version": "3.9.12"
  }
 },
 "nbformat": 4,
 "nbformat_minor": 5
}

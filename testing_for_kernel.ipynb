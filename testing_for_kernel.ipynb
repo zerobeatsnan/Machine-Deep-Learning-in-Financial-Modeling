{
 "cells": [
  {
   "cell_type": "code",
   "execution_count": 1,
   "id": "38a9b08f",
   "metadata": {},
   "outputs": [],
   "source": [
    "import numpy as np\n",
    "import pandas as pd\n",
    "import gc\n",
    "from copy import copy\n",
    "from tqdm import trange\n",
    "from datetime import datetime\n",
    "import warnings\n",
    "from sklearn.metrics.pairwise import pairwise_kernels\n",
    "from AssetPricing import factor_model, backtest, kernel_methods\n",
    "\n",
    "warnings.filterwarnings('ignore', message = 'Unused variable')"
   ]
  },
  {
   "cell_type": "code",
   "execution_count": 2,
   "id": "87a8cd86",
   "metadata": {},
   "outputs": [],
   "source": [
    "data = pd.read_csv('D:/cha1.csv',index_col=0)\n",
    "# data = pd.read_csv('D:/project/data/data.csv', index_col = 1)"
   ]
  },
  {
   "cell_type": "code",
   "execution_count": 3,
   "id": "1f4b1311",
   "metadata": {},
   "outputs": [],
   "source": [
    "date = list(pd.unique(data.index))\n",
    "date.sort()\n",
    "ret = data.pivot(columns = 'PERMNO', values = 'RET').fillna(0).loc[date]"
   ]
  },
  {
   "cell_type": "code",
   "execution_count": 4,
   "id": "62920fdf",
   "metadata": {},
   "outputs": [
    {
     "name": "stderr",
     "output_type": "stream",
     "text": [
      "100%|████████████████████████████████████████████████████████████████████████████████| 623/623 [00:25<00:00, 24.59it/s]\n"
     ]
    }
   ],
   "source": [
    "characteristics = dict()\n",
    "for t in trange(len(date)):\n",
    "    key = date[t]\n",
    "    cha = data.loc[key].set_index('PERMNO').iloc[:, 1:]    \n",
    "    cha = 2*cha.rank()/cha.count()-1\n",
    "    rt = ret.loc[key, cha.index]\n",
    "    cha.loc[rt[rt == 0].index] = np.nan\n",
    "    cha = cha.dropna(how = 'all')\n",
    "    \n",
    "    characteristics[key] = cha"
   ]
  },
  {
   "cell_type": "code",
   "execution_count": 5,
   "id": "1d3c55e9",
   "metadata": {},
   "outputs": [],
   "source": [
    "def saving_lag_characteristics(characteristics, ret, lag, saving_path = 'D:/cha'):\n",
    "    date = list(characteristics.keys())\n",
    "    \n",
    "    if len(lag) == 0 or lag is None == 0:\n",
    "        starting_date = 0\n",
    "    else:\n",
    "        starting_date = max(lag)\n",
    "\n",
    "    for t in trange(starting_date, len(date)):\n",
    "        key = date[t]\n",
    "        cha = characteristics[key]\n",
    "        if len(lag) == 0 or lag is None == 0:\n",
    "            pass\n",
    "        else:\n",
    "            for s in lag:\n",
    "                key2 = date[t - s]\n",
    "                cha_ = characteristics[key2]\n",
    "                cha = cha.merge(cha_, how = 'right', left_index = True, right_index = True)\n",
    "        rt = ret.loc[key, cha.index]\n",
    "        cha.loc[rt[rt == 0].index] = np.nan\n",
    "        cha = cha.dropna(how = 'all')\n",
    "\n",
    "        cha.to_pickle(saving_path + '/{}.pkl'.format(key))\n",
    "\n",
    "    date = list(characteristics.keys())[starting_date:]\n",
    "    return date"
   ]
  },
  {
   "cell_type": "code",
   "execution_count": 6,
   "id": "c3e4794e",
   "metadata": {},
   "outputs": [
    {
     "name": "stderr",
     "output_type": "stream",
     "text": [
      "100%|███████████████████████████████████████████████████████████████████████████████| 623/623 [00:01<00:00, 396.06it/s]\n"
     ]
    }
   ],
   "source": [
    "available_date = saving_lag_characteristics(characteristics, ret, [])"
   ]
  },
  {
   "cell_type": "code",
   "execution_count": 7,
   "id": "e77fee94",
   "metadata": {},
   "outputs": [],
   "source": [
    "ret[ret == 0] = np.nan\n",
    "ret = ret.add(- ret.mean(axis = 1), axis = 0).divide(ret.std(axis = 1), axis = 0)\n",
    "ret = ret.fillna(0)"
   ]
  },
  {
   "cell_type": "code",
   "execution_count": 53,
   "id": "192975bd",
   "metadata": {},
   "outputs": [],
   "source": [
    "class kernel_ic_maximizer:\n",
    "    def __init__(self, date, ret, starting_date):\n",
    "        self.date = date\n",
    "        self.ret = ret\n",
    "        self.starting_date = starting_date\n",
    "        self.reading_path = 'D:/cha'\n",
    "        self.prediction_saving_path = 'D:/kernel_prediction'\n",
    "        \n",
    "    \n",
    "    def ic_maximizer(self, exog, endog, new_exog, lamb = 1e-3, metric = 'linear', gamma = None, degree = None, coef0 = None):\n",
    "        N1 = exog.shape[0]\n",
    "        N2 = new_exog.shape[0]\n",
    "        gram_matrix1 = pairwise_kernels(\n",
    "            exog, exog, metric = metric, filter_params = True,\n",
    "            gamma = gamma, degree = degree, coef0 = coef0\n",
    "        )\n",
    "        gram_matrix1 = gram_matrix1 - gram_matrix1.mean(axis = 0) - gram_matrix1.mean(axis = 1).reshape(N1, 1) + gram_matrix1.mean()\n",
    "        gram_matrix2 = pairwise_kernels(\n",
    "            new_exog, exog, metric = metric, filter_params = True,\n",
    "            gamma = gamma, degree = degree, coef0 = coef0\n",
    "        )\n",
    "        gram_matrix2 = gram_matrix2 - gram_matrix2.mean(axis = 0) - gram_matrix2.mean(axis = 1).reshape(N2, 1) + gram_matrix2.mean()\n",
    "        pred = gram_matrix2.dot(np.linalg.inv(gram_matrix1 + lamb * N1 * np.eye(N1))).dot(endog)\n",
    "        del gram_matrix1, gram_matrix2\n",
    "        gc.collect()\n",
    "\n",
    "        return pred\n",
    "    \n",
    "    \n",
    "    def get_prediction_of_lag_s(self, s = 1, lamb = 1e-3, metric = 'linear', gamma = None, degree = None, coef0 = None):\n",
    "        prediction = 0 * self.ret\n",
    "\n",
    "        oos_starting_date = self.date.index(self.starting_date)\n",
    "        for t in trange(max(s, oos_starting_date), len(self.date)):\n",
    "            key1 = self.date[t]\n",
    "            key2 = self.date[t - s]\n",
    "            new_exog = pd.read_pickle(self.reading_path + '/{}.pkl'.format(key1))\n",
    "            new_available_list = list(new_exog.index)\n",
    "            exog = pd.read_pickle(self.reading_path + '/{}.pkl'.format(key2))\n",
    "            available_list = list(exog.index)\n",
    "            endog = self.ret.loc[key2, available_list]\n",
    "            prediction.loc[key1, new_available_list] = self.ic_maximizer(\n",
    "                exog, endog, new_exog, lamb, metric, gamma, degree, coef0\n",
    "            )\n",
    "            \n",
    "        pre = copy(prediction)\n",
    "        pre[pre == 0] = np.nan\n",
    "        ic = pre.corrwith(ret.loc[pre.index, pre.columns], axis = 1).mean()\n",
    "        print(ic)\n",
    "        saving_name = 's = {}, lamb = {}, metric = {}'.format(s, lamb, metric)\n",
    "        if gamma is not None:\n",
    "            saving_name = saving_name + ', gamma = {}'.format(gamma)\n",
    "        if degree is not None:\n",
    "            saving_name = saving_name + ', degree = {}'.format(degree)\n",
    "        if coef0 is not None:\n",
    "            saving_name = saving_name + ', coef0 = {}'.format(coef0)\n",
    "        saving_name = saving_name + '.pkl'\n",
    "        prediction.to_pickle(self.prediction_saving_path + '/' + saving_name)"
   ]
  },
  {
   "cell_type": "code",
   "execution_count": 54,
   "id": "d00d90de",
   "metadata": {},
   "outputs": [],
   "source": [
    "self = kernel_ic_maximizer(\n",
    "    date = available_date,\n",
    "    ret = ret,\n",
    "    starting_date = date[120]\n",
    ")"
   ]
  },
  {
   "cell_type": "code",
   "execution_count": 10,
   "id": "3088be59",
   "metadata": {},
   "outputs": [
    {
     "name": "stderr",
     "output_type": "stream",
     "text": [
      "100%|████████████████████████████████████████████████████████████████████████████████| 503/503 [05:34<00:00,  1.51it/s]\n"
     ]
    },
    {
     "name": "stdout",
     "output_type": "stream",
     "text": [
      "0.01777039114237008\n"
     ]
    }
   ],
   "source": [
    "self.get_prediction_of_lag_s(1, 1e-4, 'rbf', 1e-6)"
   ]
  },
  {
   "cell_type": "code",
   "execution_count": 50,
   "id": "087b713d",
   "metadata": {},
   "outputs": [
    {
     "name": "stdout",
     "output_type": "stream",
     "text": [
      "s = 1\n"
     ]
    },
    {
     "name": "stderr",
     "output_type": "stream",
     "text": [
      "100%|████████████████████████████████████████████████████████████████████████████████| 503/503 [05:53<00:00,  1.42it/s]\n"
     ]
    },
    {
     "name": "stdout",
     "output_type": "stream",
     "text": [
      "0.016940740076247345\n",
      "s = 2\n"
     ]
    },
    {
     "name": "stderr",
     "output_type": "stream",
     "text": [
      "100%|████████████████████████████████████████████████████████████████████████████████| 503/503 [05:52<00:00,  1.43it/s]\n"
     ]
    },
    {
     "name": "stdout",
     "output_type": "stream",
     "text": [
      "-0.02391770091043785\n",
      "s = 3\n"
     ]
    },
    {
     "name": "stderr",
     "output_type": "stream",
     "text": [
      "100%|████████████████████████████████████████████████████████████████████████████████| 503/503 [05:52<00:00,  1.43it/s]\n"
     ]
    },
    {
     "name": "stdout",
     "output_type": "stream",
     "text": [
      "0.019577132048731103\n",
      "s = 4\n"
     ]
    },
    {
     "name": "stderr",
     "output_type": "stream",
     "text": [
      "100%|████████████████████████████████████████████████████████████████████████████████| 503/503 [05:52<00:00,  1.43it/s]\n"
     ]
    },
    {
     "name": "stdout",
     "output_type": "stream",
     "text": [
      "0.022268380249086894\n",
      "s = 5\n"
     ]
    },
    {
     "name": "stderr",
     "output_type": "stream",
     "text": [
      "100%|████████████████████████████████████████████████████████████████████████████████| 503/503 [05:52<00:00,  1.43it/s]\n"
     ]
    },
    {
     "name": "stdout",
     "output_type": "stream",
     "text": [
      "0.013349688289982828\n",
      "s = 6\n"
     ]
    },
    {
     "name": "stderr",
     "output_type": "stream",
     "text": [
      "100%|████████████████████████████████████████████████████████████████████████████████| 503/503 [05:52<00:00,  1.43it/s]\n"
     ]
    },
    {
     "name": "stdout",
     "output_type": "stream",
     "text": [
      "-0.020278216387728046\n",
      "s = 7\n"
     ]
    },
    {
     "name": "stderr",
     "output_type": "stream",
     "text": [
      "100%|████████████████████████████████████████████████████████████████████████████████| 503/503 [05:52<00:00,  1.43it/s]\n"
     ]
    },
    {
     "name": "stdout",
     "output_type": "stream",
     "text": [
      "0.00338556368853025\n",
      "s = 8\n"
     ]
    },
    {
     "name": "stderr",
     "output_type": "stream",
     "text": [
      "100%|████████████████████████████████████████████████████████████████████████████████| 503/503 [05:52<00:00,  1.43it/s]\n"
     ]
    },
    {
     "name": "stdout",
     "output_type": "stream",
     "text": [
      "0.02025332430476163\n",
      "s = 9\n"
     ]
    },
    {
     "name": "stderr",
     "output_type": "stream",
     "text": [
      "100%|████████████████████████████████████████████████████████████████████████████████| 503/503 [05:52<00:00,  1.43it/s]\n"
     ]
    },
    {
     "name": "stdout",
     "output_type": "stream",
     "text": [
      "0.021849587665853962\n",
      "s = 10\n"
     ]
    },
    {
     "name": "stderr",
     "output_type": "stream",
     "text": [
      "100%|████████████████████████████████████████████████████████████████████████████████| 503/503 [05:52<00:00,  1.43it/s]\n"
     ]
    },
    {
     "name": "stdout",
     "output_type": "stream",
     "text": [
      "-0.01730361314496968\n",
      "s = 11\n"
     ]
    },
    {
     "name": "stderr",
     "output_type": "stream",
     "text": [
      "100%|████████████████████████████████████████████████████████████████████████████████| 503/503 [05:53<00:00,  1.42it/s]\n"
     ]
    },
    {
     "name": "stdout",
     "output_type": "stream",
     "text": [
      "-0.014773885928850023\n"
     ]
    }
   ],
   "source": [
    "for s in range(1, 12):\n",
    "    print('s = {}'.format(s))\n",
    "    self.get_prediction_of_lag_s(s, 1e-3, 'rbf', 1e-4)"
   ]
  },
  {
   "cell_type": "code",
   "execution_count": 51,
   "id": "1c4eee99",
   "metadata": {},
   "outputs": [
    {
     "name": "stderr",
     "output_type": "stream",
     "text": [
      "100%|██████████████████████████████████████████████████████████████████████████████████| 11/11 [00:00<00:00, 25.50it/s]\n"
     ]
    }
   ],
   "source": [
    "prediction = 0\n",
    "for i in trange(1, 12):\n",
    "    prediction = prediction + pd.read_pickle('D:/kernel_prediction/s = {}, lamb = 0.001, metric = rbf, gamma = 0.0001.pkl'.format(i))"
   ]
  },
  {
   "cell_type": "code",
   "execution_count": 52,
   "id": "ad5d3c39",
   "metadata": {},
   "outputs": [
    {
     "data": {
      "text/plain": [
       "0.02218853678659473"
      ]
     },
     "execution_count": 52,
     "metadata": {},
     "output_type": "execute_result"
    }
   ],
   "source": [
    "prediction[prediction == 0] = np.nan\n",
    "prediction.corrwith(ret.loc[prediction.index, prediction.columns], axis = 1).dropna().mean()"
   ]
  },
  {
   "cell_type": "markdown",
   "id": "5f358cf3",
   "metadata": {},
   "source": [
    "# linear ridge"
   ]
  },
  {
   "cell_type": "code",
   "execution_count": 41,
   "id": "bffa9c74",
   "metadata": {},
   "outputs": [],
   "source": [
    "def ic_oos(mod, starting_date, characteristics, ret, date_list, estimating_interval=10000, horizon=1):\n",
    "    \n",
    "    oos_starting_date = date_list.index(starting_date)\n",
    "    prediction = ret*0\n",
    "    for t in trange(oos_starting_date, len(date_list)):\n",
    "        key = date_list[t]\n",
    "        avaliable_date = date_list[(t-estimating_interval-horizon):(t-horizon)]\n",
    "        avaliable_date = list(set(avaliable_date) & set(mod.factor.index))\n",
    "        avaliable_date.sort()\n",
    "        mu_hat = mod.factor.loc[avaliable_date].mean().values\n",
    "        prediction.loc[key, characteristics[key].index] = mod.predict(characteristics[key],mu_hat)\n",
    "        \n",
    "    ic = prediction.iloc[oos_starting_date:(len(date_list)-horizon)].\\\n",
    "        corrwith(ret.iloc[oos_starting_date:(len(date_list)-horizon)], axis=1).mean()\n",
    "    \n",
    "    print(ic)\n",
    "    \n",
    "    return prediction.iloc[oos_starting_date:(len(date_list)-horizon)]"
   ]
  },
  {
   "cell_type": "code",
   "execution_count": 42,
   "id": "4d4e7960",
   "metadata": {},
   "outputs": [
    {
     "name": "stderr",
     "output_type": "stream",
     "text": [
      "100%|██████████████████████████████████████████████████████████████████████████████| 611/611 [00:00<00:00, 5099.84it/s]\n"
     ]
    }
   ],
   "source": [
    "mod1 = factor_model.ridge(characteristics, ret)\n",
    "mod1.fit(2e-3)"
   ]
  },
  {
   "cell_type": "code",
   "execution_count": 43,
   "id": "17951169",
   "metadata": {},
   "outputs": [
    {
     "name": "stderr",
     "output_type": "stream",
     "text": [
      "100%|███████████████████████████████████████████████████████████████████████████████| 491/491 [00:01<00:00, 365.91it/s]\n"
     ]
    },
    {
     "name": "stdout",
     "output_type": "stream",
     "text": [
      "0.05948817832402594\n"
     ]
    }
   ],
   "source": [
    "pre1 = ic_oos(\n",
    "    mod1,\n",
    "    date[120],\n",
    "    characteristics,\n",
    "    ret,\n",
    "    date,\n",
    "    12\n",
    ")"
   ]
  },
  {
   "cell_type": "code",
   "execution_count": null,
   "id": "2d43844a",
   "metadata": {},
   "outputs": [],
   "source": []
  }
 ],
 "metadata": {
  "kernelspec": {
   "display_name": "Python 3 (ipykernel)",
   "language": "python",
   "name": "python3"
  },
  "language_info": {
   "codemirror_mode": {
    "name": "ipython",
    "version": 3
   },
   "file_extension": ".py",
   "mimetype": "text/x-python",
   "name": "python",
   "nbconvert_exporter": "python",
   "pygments_lexer": "ipython3",
   "version": "3.11.4"
  }
 },
 "nbformat": 4,
 "nbformat_minor": 5
}
